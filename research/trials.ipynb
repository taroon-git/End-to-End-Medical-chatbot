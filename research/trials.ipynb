{
 "cells": [
  {
   "cell_type": "code",
   "execution_count": null,
   "id": "ba8ec3b5",
   "metadata": {},
   "outputs": [],
   "source": [
    "print(\"ok\")"
   ]
  },
  {
   "cell_type": "code",
   "execution_count": 1,
   "id": "d66e8f36",
   "metadata": {},
   "outputs": [
    {
     "data": {
      "text/plain": [
       "'/home/tarun/Desktop/AI Medical Chatbot/End-to-End-Medical-chatbot/research'"
      ]
     },
     "execution_count": 1,
     "metadata": {},
     "output_type": "execute_result"
    }
   ],
   "source": [
    "%pwd"
   ]
  },
  {
   "cell_type": "code",
   "execution_count": 2,
   "id": "5fe428f3",
   "metadata": {},
   "outputs": [],
   "source": [
    "import os \n",
    "os.chdir(\"../\")"
   ]
  },
  {
   "cell_type": "code",
   "execution_count": 3,
   "id": "f3852dd2",
   "metadata": {},
   "outputs": [
    {
     "data": {
      "text/plain": [
       "'/home/tarun/Desktop/AI Medical Chatbot/End-to-End-Medical-chatbot'"
      ]
     },
     "execution_count": 3,
     "metadata": {},
     "output_type": "execute_result"
    }
   ],
   "source": [
    "%pwd\n"
   ]
  },
  {
   "cell_type": "code",
   "execution_count": 7,
   "id": "06d2382b",
   "metadata": {},
   "outputs": [],
   "source": [
    "from langchain_community.document_loaders import DirectoryLoader, PyPDFLoader\n",
    "from langchain_text_splitters import RecursiveCharacterTextSplitter\n"
   ]
  },
  {
   "cell_type": "code",
   "execution_count": 8,
   "id": "0aae2346",
   "metadata": {},
   "outputs": [],
   "source": [
    "# Extract Data from the PDF File\n",
    "\n",
    "def load_pdf_file(data):\n",
    "    loader= DirectoryLoader(data, \n",
    "                            glob=\"*.pdf\",\n",
    "                            loader_cls=PyPDFLoader\n",
    "                            )\n",
    "    \n",
    "    documents=loader.load()\n",
    "\n",
    "    return documents\n"
   ]
  },
  {
   "cell_type": "code",
   "execution_count": 9,
   "id": "17f2a425",
   "metadata": {},
   "outputs": [],
   "source": [
    "extracted_data = load_pdf_file(data='Data/')"
   ]
  },
  {
   "cell_type": "code",
   "execution_count": 10,
   "id": "e65c9539",
   "metadata": {},
   "outputs": [],
   "source": [
    "# # Print first 5 documents with their content\n",
    "# print(f\"Total number of documents: {len(extracted_data)}\\n\")\n",
    "# print(\"First 5 documents:\")\n",
    "# for i, doc in enumerate(extracted_data[:5]):\n",
    "#     print(f\"\\nDocument {i+1}:\")\n",
    "#     print(f\"Source: {doc.metadata.get('source', 'No source')}\")\n",
    "#     print(f\"Page: {doc.metadata.get('page', 'No page number')}\")\n",
    "#     print(f\"Content preview: {doc.page_content[:200]}...\")"
   ]
  },
  {
   "cell_type": "code",
   "execution_count": 11,
   "id": "dc2c00a7",
   "metadata": {},
   "outputs": [],
   "source": [
    "#Split the data into Text Chunks\n",
    "\n",
    "def text_split(extracted_data):\n",
    "    text_splitter=RecursiveCharacterTextSplitter(chunk_size=500, chunk_overlap=20)\n",
    "    text_chunks=text_splitter.split_documents(extracted_data)\n",
    "    return text_chunks"
   ]
  },
  {
   "cell_type": "code",
   "execution_count": 12,
   "id": "11c4490a",
   "metadata": {},
   "outputs": [
    {
     "name": "stdout",
     "output_type": "stream",
     "text": [
      "Length of Text Chunks 40000\n"
     ]
    }
   ],
   "source": [
    "text_chunks=text_split(extracted_data)\n",
    "print(\"Length of Text Chunks\", len(text_chunks))"
   ]
  },
  {
   "cell_type": "code",
   "execution_count": 13,
   "id": "0bb547fc",
   "metadata": {},
   "outputs": [],
   "source": [
    "# text_chunks"
   ]
  },
  {
   "cell_type": "code",
   "execution_count": 32,
   "id": "cb7d6d44",
   "metadata": {},
   "outputs": [],
   "source": [
    "from langchain_community.embeddings import HuggingFaceEmbeddings\n"
   ]
  },
  {
   "cell_type": "code",
   "execution_count": 30,
   "id": "fac93111",
   "metadata": {},
   "outputs": [],
   "source": [
    "from langchain_community.embeddings import HuggingFaceEmbeddings\n",
    "\n",
    "# Download the Embeddings from Hugging Face\n",
    "def download_hugging_face_embeddings():\n",
    "    embeddings = HuggingFaceEmbeddings(\n",
    "        model_name='sentence-transformers/all-MiniLM-L6-v2'\n",
    "    )\n",
    "    return embeddings\n",
    "\n",
    "# embeddings = download_hugging_face_embeddings()\n"
   ]
  },
  {
   "cell_type": "code",
   "execution_count": 31,
   "id": "d46ed500",
   "metadata": {},
   "outputs": [],
   "source": [
    "embeddings = download_hugging_face_embeddings()"
   ]
  },
  {
   "cell_type": "code",
   "execution_count": 33,
   "id": "af868ad2",
   "metadata": {},
   "outputs": [
    {
     "name": "stdout",
     "output_type": "stream",
     "text": [
      "Length 384\n"
     ]
    }
   ],
   "source": [
    "query_result = embeddings.embed_query(\"Hello world\")\n",
    "print(\"Length\", len(query_result))\n",
    "# query_result"
   ]
  },
  {
   "cell_type": "markdown",
   "id": "b093c467",
   "metadata": {},
   "source": [
    "## PINECONE VECTOR DB SETUP"
   ]
  },
  {
   "cell_type": "code",
   "execution_count": 115,
   "id": "f1c6838b",
   "metadata": {},
   "outputs": [
    {
     "data": {
      "text/plain": [
       "True"
      ]
     },
     "execution_count": 115,
     "metadata": {},
     "output_type": "execute_result"
    }
   ],
   "source": [
    "from dotenv import load_dotenv\n",
    "load_dotenv()"
   ]
  },
  {
   "cell_type": "code",
   "execution_count": 116,
   "id": "05fc0454",
   "metadata": {},
   "outputs": [
    {
     "name": "stdout",
     "output_type": "stream",
     "text": [
      "pcsk_6XRjRR_5jA2brukgbF1AHfqr2YBekphi6Dd1Jen9ygWYMGCMULFFiK2ubNpc29UZAe9s8v\n"
     ]
    }
   ],
   "source": [
    "PINECONE_API_KEY = os.environ.get('PINECONE_API_KEY')\n",
    "print(PINECONE_API_KEY)"
   ]
  },
  {
   "cell_type": "code",
   "execution_count": 113,
   "id": "dd90dcec",
   "metadata": {},
   "outputs": [
    {
     "name": "stdout",
     "output_type": "stream",
     "text": [
      "✅ Pinecone index ready: medicalbot\n"
     ]
    }
   ],
   "source": [
    "from pinecone import Pinecone, ServerlessSpec\n",
    "import os\n",
    "\n",
    "# Make sure your API key is available\n",
    "pc = Pinecone(api_key=PINECONE_API_KEY)\n",
    "\n",
    "index_name = \"medicalbot\"\n",
    "\n",
    "# Create index only if it doesn't already exist\n",
    "if index_name not in pc.list_indexes().names():\n",
    "    pc.create_index(\n",
    "        name=index_name,\n",
    "        dimension=384,  # Must match your embeddings (MiniLM = 384)\n",
    "        metric=\"cosine\",\n",
    "        spec=ServerlessSpec(\n",
    "            cloud=\"aws\",\n",
    "            region=\"us-east-1\"\n",
    "        )\n",
    "    )\n",
    "\n",
    "# Connect to the index\n",
    "index = pc.Index(index_name)\n",
    "\n",
    "print(\"✅ Pinecone index ready:\", index_name)\n"
   ]
  },
  {
   "cell_type": "code",
   "execution_count": null,
   "id": "51ff9107",
   "metadata": {},
   "outputs": [],
   "source": [
    "import os\n",
    "\n",
    "os.environ[\"PINECONE_API_KEY\"] = PINECONE_API_KEY\n"
   ]
  },
  {
   "cell_type": "code",
   "execution_count": null,
   "id": "5fa24bf4",
   "metadata": {},
   "outputs": [],
   "source": [
    "from langchain_community.vectorstores import Pinecone as PineconeVectorStore\n",
    "\n",
    "docsearch = PineconeVectorStore.from_documents(\n",
    "    documents=text_chunks,\n",
    "    index_name=index_name,\n",
    "    embedding=embeddings,\n",
    ")"
   ]
  },
  {
   "cell_type": "code",
   "execution_count": 75,
   "id": "cda7fc28",
   "metadata": {},
   "outputs": [
    {
     "data": {
      "text/plain": [
       "<langchain_community.vectorstores.pinecone.Pinecone at 0x75ce807dc5f0>"
      ]
     },
     "execution_count": 75,
     "metadata": {},
     "output_type": "execute_result"
    }
   ],
   "source": [
    "# Load Existing index\n",
    "# Embed each chunk and upsert the embeddings into your Pinecone index.\n",
    "\n",
    "docsearch = PineconeVectorStore.from_existing_index(\n",
    "    index_name=index_name,\n",
    "    embedding=embeddings\n",
    ")\n",
    "\n",
    "docsearch"
   ]
  },
  {
   "cell_type": "code",
   "execution_count": null,
   "id": "da3c275b",
   "metadata": {},
   "outputs": [],
   "source": [
    "retriever = docsearch.as_retriever(search_type=\"similarity\", search_kwargs={\"k\":3})"
   ]
  },
  {
   "cell_type": "code",
   "execution_count": 77,
   "id": "6670e0da",
   "metadata": {},
   "outputs": [
    {
     "data": {
      "text/plain": [
       "[Document(metadata={'creationdate': '2006-10-16T20:19:33+02:00', 'creator': 'Adobe Acrobat 6.0', 'moddate': '2006-10-16T22:03:45+02:00', 'page': 55.0, 'page_label': '26', 'producer': 'PDFlib+PDI 6.0.3 (SunOS)', 'source': 'Data/Medical_book.pdf', 'total_pages': 4505.0}, page_content='Researchers, Inc. Reproduced by permission.)\\n26 GALE ENCYCLOPEDIA OF MEDICINE\\nAcne'),\n",
       " Document(metadata={'creationdate': '2006-10-16T20:19:33+02:00', 'creator': 'Adobe Acrobat 6.0', 'moddate': '2006-10-16T22:03:45+02:00', 'page': 55.0, 'page_label': '26', 'producer': 'PDFlib+PDI 6.0.3 (SunOS)', 'source': 'Data/Medical_book.pdf', 'total_pages': 4505.0}, page_content='Sebaceous follicles— A structure found within the\\nskin that houses the oil-producing glands and hair\\nfollicles, where pimples form.\\nSebum— An oily skin moisturizer produced by\\nsebaceous glands.\\nTretinoin— A drug that works by increasing the\\nturnover (death and replacement) of skin cells.\\nAcne vulgaris affecting a woman’s face. Acne is the general\\nname given to a skin disorder in which the sebaceous glands\\nbecome inflamed. (Photograph by Biophoto Associates, Photo'),\n",
       " Document(metadata={'creationdate': '2006-10-16T20:19:33+02:00', 'creator': 'Adobe Acrobat 6.0', 'moddate': '2006-10-16T22:03:45+02:00', 'page': 54.0, 'page_label': '25', 'producer': 'PDFlib+PDI 6.0.3 (SunOS)', 'source': 'Data/Medical_book.pdf', 'total_pages': 4505.0}, page_content='Pathological Stage and Recurrence in Radical\\nProstatectomy Cases.’’Journal of Urology (March\\n1998): 935-940.\\nNancy J. Nordenson\\nAcid reflux see Heartburn\\nAcidosis see Respiratory acidosis; Renal\\ntubular acidosis; Metabolic acidosis\\nAcne\\nDefinition\\nAcne is a common skin disease characterized by\\npimples on the face, chest, and back. It occurs when\\nthe pores of the skin become clogged with oil, dead\\nskin cells, and bacteria.\\nDescription\\nAcne vulgaris, the medical term for common acne,')]"
      ]
     },
     "execution_count": 77,
     "metadata": {},
     "output_type": "execute_result"
    }
   ],
   "source": [
    "retrieved_docs = retriever.invoke(\"What is Acne?\")\n",
    "retrieved_docs"
   ]
  },
  {
   "cell_type": "code",
   "execution_count": null,
   "id": "ed608b02",
   "metadata": {},
   "outputs": [],
   "source": [
    "\n",
    "OPEN_API_KEY = os.getenv(\"OPEN_API_KEY\")"
   ]
  },
  {
   "cell_type": "code",
   "execution_count": 144,
   "id": "4272a246",
   "metadata": {},
   "outputs": [],
   "source": [
    "from langchain_openai import OpenAI\n",
    "llm = OpenAI(api_key=OPEN_API_KEY ,temperature=0.4, max_tokens=500)"
   ]
  },
  {
   "cell_type": "code",
   "execution_count": 146,
   "id": "530e1823",
   "metadata": {},
   "outputs": [],
   "source": [
    "# from langchain_openai import ChatOpenAI\n",
    "\n",
    "# llm = ChatOpenAI(\n",
    "#     model=\"gpt-4o-mini\",\n",
    "#     api_key=  OPEN_API_KEY\n",
    "# )\n",
    "\n",
    "# print(llm.invoke(\"Hello!\").content)\n"
   ]
  },
  {
   "cell_type": "code",
   "execution_count": null,
   "id": "e966bc52",
   "metadata": {},
   "outputs": [],
   "source": []
  },
  {
   "cell_type": "code",
   "execution_count": 136,
   "id": "23f8a29a",
   "metadata": {},
   "outputs": [],
   "source": [
    "from langchain_openai import ChatOpenAI\n",
    "from langchain_core.prompts import ChatPromptTemplate\n",
    "from langchain_community.vectorstores import Pinecone as PineconeVectorStore\n",
    "\n",
    "\n",
    "# Your LLM\n",
    "llm = ChatOpenAI(api_key=OPEN_API_KEY, model=\"gpt-4o-mini\", temperature=0.4)\n",
    "\n",
    "# Prompt Template\n",
    "system_prompt = (\n",
    "    \"You are an assistant for medical question-answering.\\n\"\n",
    "    \"Use the context below to answer accurately.\\n\"\n",
    "    \"If the answer is not in the context, reply: 'I don't know'.\\n\"\n",
    "    \"Keep the answer short and clear.\\n\\n\"\n",
    "    \"Context:\\n{context}\"\n",
    ")\n",
    "\n",
    "prompt = ChatPromptTemplate.from_messages(\n",
    "    [\n",
    "        (\"system\", system_prompt),\n",
    "        (\"human\", \"{question}\")\n",
    "    ]\n",
    ")\n",
    "\n"
   ]
  },
  {
   "cell_type": "code",
   "execution_count": 147,
   "id": "ed651d89",
   "metadata": {},
   "outputs": [
    {
     "data": {
      "text/plain": [
       "[Document(metadata={'creationdate': '2006-10-16T20:19:33+02:00', 'creator': 'Adobe Acrobat 6.0', 'moddate': '2006-10-16T22:03:45+02:00', 'page': 411.0, 'page_label': '382', 'producer': 'PDFlib+PDI 6.0.3 (SunOS)', 'source': 'Data/Medical_book.pdf', 'total_pages': 4505.0}, page_content='pain beginning around or above the navel. The pain,\\nwhich may be severe or only achy and uncomfortable,\\neventually moves into the right lower corner of the\\nabdomen. There, it becomes more steady and more\\nsevere, and often increases with movement, coughing,\\nand so forth. The abdomen often becomes rigid and\\ntender to the touch. Increasing rigidity and tenderness\\nindicates an increased likelihood of perforation and\\nperitonitis.\\nLoss of appetite is very common. Nausea and'),\n",
       " Document(metadata={'creationdate': '2006-10-16T20:19:33+02:00', 'creator': 'Adobe Acrobat 6.0', 'moddate': '2006-10-16T22:03:45+02:00', 'page': 1592.0, 'page_label': '1563', 'producer': 'PDFlib+PDI 6.0.3 (SunOS)', 'source': 'Data/Medical_book.pdf', 'total_pages': 4505.0}, page_content='may lead to ulcers and resulting symptoms. Ulcer\\nsymptoms include dull, gnawing pain, often two to\\nthree hours after meals and pain in the middle of the\\nnight when the stomach is empty.\\nErosive and hemorrhagic gastritis\\nThe most common cause of this form of gastritis is\\nuse of NSAIDS. Other causes may bealcoholism or\\nstress from surgery or critical illness. The role of\\nNSAIDS in development of gastritis and peptic ulcers\\ndepends on the dose level. Although even low doses of'),\n",
       " Document(metadata={'creationdate': '2006-10-16T20:19:33+02:00', 'creator': 'Adobe Acrobat 6.0', 'moddate': '2006-10-16T22:03:45+02:00', 'page': 2696.0, 'page_label': '2667', 'producer': 'PDFlib+PDI 6.0.3 (SunOS)', 'source': 'Data/Medical_book.pdf', 'total_pages': 4505.0}, page_content='/C15Leaking amniotic fluid. Amniotic fluid is straw-\\ncolored and may easily be confused with urine leakage,\\nbut can be differentiated by its slightly sweet odor.\\n/C15Severe abdominalpain. Stomach or lower back pain\\ncan indicate preeclampsia or an undiagnosed ectopic\\npregnancy. Postpartum stomach pain can be a sign\\nof infection or hemorrhage.\\n/C15Contractions. Regular contractions before 37 weeks\\nof gestation can signal the onset of preterm labor due\\nto obstetrical complications.')]"
      ]
     },
     "execution_count": 147,
     "metadata": {},
     "output_type": "execute_result"
    }
   ],
   "source": [
    "question = \"Actually, from the last night, I'm getting belly pain, help me to know what is the problem?\"\n",
    "docs = retriever.invoke(question)\n",
    "docs\n",
    "\n"
   ]
  },
  {
   "cell_type": "code",
   "execution_count": 148,
   "metadata": {},
   "outputs": [],
   "source": [
    "context = \"\\n\\n\".join(doc.page_content for doc in docs)\n",
    "response = llm.invoke(prompt.format(context=context, question=question))"
   ]
  },
  {
   "cell_type": "code",
   "execution_count": 149,
   "id": "a02af3bc",
   "metadata": {},
   "outputs": [
    {
     "name": "stdout",
     "output_type": "stream",
     "text": [
      "content=\"I don't know.\" additional_kwargs={'refusal': None} response_metadata={'token_usage': {'completion_tokens': 4, 'prompt_tokens': 409, 'total_tokens': 413, 'completion_tokens_details': {'accepted_prediction_tokens': 0, 'audio_tokens': 0, 'reasoning_tokens': 0, 'rejected_prediction_tokens': 0}, 'prompt_tokens_details': {'audio_tokens': 0, 'cached_tokens': 0}}, 'model_provider': 'openai', 'model_name': 'gpt-4o-mini-2024-07-18', 'system_fingerprint': 'fp_560af6e559', 'id': 'chatcmpl-CWG3fRmQpgUzyE0ghv2a3joY6Tfg1', 'service_tier': 'default', 'finish_reason': 'stop', 'logprobs': None} id='lc_run--9ade1575-3e78-4fe1-8a9f-9ce9bc53e837-0' usage_metadata={'input_tokens': 409, 'output_tokens': 4, 'total_tokens': 413, 'input_token_details': {'audio': 0, 'cache_read': 0}, 'output_token_details': {'audio': 0, 'reasoning': 0}}\n"
     ]
    }
   ],
   "source": [
    "print(response)"
   ]
  },
  {
   "cell_type": "code",
   "execution_count": null,
   "metadata": {},
   "outputs": [],
   "source": []
  },
  {
   "cell_type": "code",
   "execution_count": null,
   "metadata": {},
   "outputs": [],
   "source": []
  }
 ],
 "metadata": {
  "kernelspec": {
   "display_name": "llmapp",
   "language": "python",
   "name": "python3"
  },
  "language_info": {
   "codemirror_mode": {
    "name": "ipython",
    "version": 3
   },
   "file_extension": ".py",
   "mimetype": "text/x-python",
   "name": "python",
   "nbconvert_exporter": "python",
   "pygments_lexer": "ipython3",
   "version": "3.12.3"
  }
 },
 "nbformat": 4,
 "nbformat_minor": 5
}
